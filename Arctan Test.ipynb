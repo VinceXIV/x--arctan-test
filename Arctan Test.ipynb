{
 "cells": [
  {
   "cell_type": "code",
   "execution_count": 1,
   "id": "ea66e88a",
   "metadata": {},
   "outputs": [],
   "source": [
    "import numpy as np\n",
    "import pandas as pd\n",
    "import matplotlib.pyplot as plt\n",
    "import imutils\n",
    "import copy"
   ]
  },
  {
   "cell_type": "code",
   "execution_count": 2,
   "id": "ff845f28",
   "metadata": {},
   "outputs": [],
   "source": [
    "mnist_train = pd.read_csv('../MNIST/mnist_train.csv')\n",
    "ones = mnist_train.loc[mnist_train[\"5\"]==1]\n",
    "sample1_1 = np.array(ones.iloc[0, 1:]).reshape((28, 28)).astype('float32')\n"
   ]
  },
  {
   "cell_type": "code",
   "execution_count": 3,
   "id": "53c28198",
   "metadata": {},
   "outputs": [],
   "source": [
    "myImg = sample1_1"
   ]
  },
  {
   "cell_type": "code",
   "execution_count": 4,
   "id": "8ab67989",
   "metadata": {},
   "outputs": [
    {
     "data": {
      "text/plain": [
       "<matplotlib.image.AxesImage at 0x1f0884249d0>"
      ]
     },
     "execution_count": 4,
     "metadata": {},
     "output_type": "execute_result"
    },
    {
     "data": {
      "image/png": "[encoded data removed]",
      "text/plain": [
       "<Figure size 432x288 with 1 Axes>"
      ]
     },
     "metadata": {
      "needs_background": "light"
     },
     "output_type": "display_data"
    }
   ],
   "source": [
    "plt.imshow(myImg, cmap=\"Greys\")"
   ]
  },
  {
   "cell_type": "code",
   "execution_count": 5,
   "id": "4eed34a4",
   "metadata": {},
   "outputs": [],
   "source": [
    "def createItem(Img, row, col):\n",
    "    a = Img[row, col]\n",
    "    b = Img[row, col + 1]\n",
    "    c = Img[row + 1, col]\n",
    "    d = Img[row + 1, col + 1]\n",
    "    \n",
    "    result = np.array([a, b, c, d])\n",
    "    return result.reshape(2, 2)\n"
   ]
  },
  {
   "cell_type": "code",
   "execution_count": 6,
   "id": "977ea0bf",
   "metadata": {},
   "outputs": [],
   "source": [
    "def getAngle(item):\n",
    "    a = item[0, 0]\n",
    "    b = item[0, 1]\n",
    "    c = item[1, 0]\n",
    "    d = item[1, 1]\n",
    "    \n",
    "    machine_epsilon = 10**(-16)\n",
    "\n",
    "#     Hor = abs(a - b) + abs(c - d)\n",
    "#     Vert = abs(a - c) +  abs(b - d)\n",
    "    \n",
    "    Hor = (a - b) + (c - d)\n",
    "    Vert = (a - c) + (b - d)\n",
    "    # Don't process images with no edges\n",
    "    if Hor == 0 and Vert == 0:\n",
    "        return -1\n",
    "    \n",
    "    Vert = Vert + machine_epsilon\n",
    "            \n",
    "    return round(np.arctan(Hor/Vert)*360/(2*np.pi), 2)"
   ]
  },
  {
   "cell_type": "code",
   "execution_count": 7,
   "id": "b5fa4f14",
   "metadata": {},
   "outputs": [],
   "source": [
    "def convertToAngle(Img):\n",
    "    nrows = int(len(Img)-1)\n",
    "    ncols = int(len(Img)-1)\n",
    "    \n",
    "    result = np.zeros(shape=(nrows, ncols))\n",
    "    \n",
    "    for row in range(len(Img)-1):\n",
    "        for col in range(len(Img[0])-1):\n",
    "            item = createItem(Img, row, col)\n",
    "            angle = getAngle(item)\n",
    "            \n",
    "            if angle != -1:\n",
    "                result[row, col] = angle\n",
    "            \n",
    "    return result"
   ]
  },
  {
   "cell_type": "code",
   "execution_count": 8,
   "id": "a2229305",
   "metadata": {},
   "outputs": [
    {
     "data": {
      "text/plain": [
       "<matplotlib.image.AxesImage at 0x1f088553430>"
      ]
     },
     "execution_count": 8,
     "metadata": {},
     "output_type": "execute_result"
    },
    {
     "data": {
      "image/png": "[encoded data removed]",
      "text/plain": [
       "<Figure size 432x288 with 1 Axes>"
      ]
     },
     "metadata": {
      "needs_background": "light"
     },
     "output_type": "display_data"
    }
   ],
   "source": [
    "plt.imshow(convertToAngle(myImg), cmap=\"Greys\")"
   ]
  },
  {
   "cell_type": "code",
   "execution_count": 9,
   "id": "87b84cf3",
   "metadata": {},
   "outputs": [
    {
     "data": {
      "text/plain": [
       "array([[0., 0.],\n",
       "       [0., 0.]], dtype=float32)"
      ]
     },
     "execution_count": 9,
     "metadata": {},
     "output_type": "execute_result"
    }
   ],
   "source": [
    "createItem(myImg, 2, 3)"
   ]
  },
  {
   "cell_type": "code",
   "execution_count": 10,
   "id": "d98a318a",
   "metadata": {},
   "outputs": [],
   "source": [
    "def getAvgAngle(Img):\n",
    "    result = []\n",
    "    sample = copy.deepcopy(Img[10:18, 10:18])\n",
    "    # print(\"from get average angle: \", sample.size)\n",
    "    # print(\"\")\n",
    "    for row in range(len(sample)-1):\n",
    "        for col in range(len(sample[0])-1):\n",
    "\n",
    "            a = sample[row, col]\n",
    "            b = sample[row, col + 1]\n",
    "            c = sample[row + 1, col]\n",
    "            d = sample[row + 1, col + 1]\n",
    "                        \n",
    "            machine_epsilon = 10**(-16)\n",
    "            \n",
    "            Hor = abs(a - b) + abs(c - d)\n",
    "            Vert = abs(a - c) +  abs(b - d) + machine_epsilon\n",
    "            result.append(np.arctan(Hor/Vert)*360/(2*np.pi))\n",
    "    \n",
    "    return np.mean(result)"
   ]
  },
  {
   "cell_type": "code",
   "execution_count": 12,
   "id": "04b96011",
   "metadata": {},
   "outputs": [],
   "source": [
    "result = {}\n",
    "result[\"Rotated Angle\"] = []\n",
    "result[\"Calculated Orientation\"] = []\n",
    "\n",
    "for i in range(361):\n",
    "    rotatedImg = copy.deepcopy(imutils.rotate(myImg, angle=i))\n",
    "#     print(rotatedImg)\n",
    "    # print(\"from start: \", rotatedImg.size)\n",
    "    angle = getAvgAngle(rotatedImg)\n",
    "    \n",
    "    result[\"Rotated Angle\"].append(i)\n",
    "    result[\"Calculated Orientation\"].append(angle)"
   ]
  },
  {
   "cell_type": "code",
   "execution_count": 13,
   "id": "58cedb38",
   "metadata": {},
   "outputs": [
    {
     "data": {
      "text/html": [
       "<div>\n",
       "<style scoped>\n",
       "    .dataframe tbody tr th:only-of-type {\n",
       "        vertical-align: middle;\n",
       "    }\n",
       "\n",
       "    .dataframe tbody tr th {\n",
       "        vertical-align: top;\n",
       "    }\n",
       "\n",
       "    .dataframe thead th {\n",
       "        text-align: right;\n",
       "    }\n",
       "</style>\n",
       "<table border=\"1\" class=\"dataframe\">\n",
       "  <thead>\n",
       "    <tr style=\"text-align: right;\">\n",
       "      <th></th>\n",
       "      <th>Rotated Angle</th>\n",
       "      <th>Calculated Orientation</th>\n",
       "    </tr>\n",
       "  </thead>\n",
       "  <tbody>\n",
       "    <tr>\n",
       "      <th>0</th>\n",
       "      <td>0</td>\n",
       "      <td>40.495345</td>\n",
       "    </tr>\n",
       "    <tr>\n",
       "      <th>1</th>\n",
       "      <td>1</td>\n",
       "      <td>49.894555</td>\n",
       "    </tr>\n",
       "    <tr>\n",
       "      <th>2</th>\n",
       "      <td>2</td>\n",
       "      <td>51.029895</td>\n",
       "    </tr>\n",
       "    <tr>\n",
       "      <th>3</th>\n",
       "      <td>3</td>\n",
       "      <td>52.535483</td>\n",
       "    </tr>\n",
       "    <tr>\n",
       "      <th>4</th>\n",
       "      <td>4</td>\n",
       "      <td>53.706962</td>\n",
       "    </tr>\n",
       "    <tr>\n",
       "      <th>...</th>\n",
       "      <td>...</td>\n",
       "      <td>...</td>\n",
       "    </tr>\n",
       "    <tr>\n",
       "      <th>356</th>\n",
       "      <td>356</td>\n",
       "      <td>44.300913</td>\n",
       "    </tr>\n",
       "    <tr>\n",
       "      <th>357</th>\n",
       "      <td>357</td>\n",
       "      <td>44.728698</td>\n",
       "    </tr>\n",
       "    <tr>\n",
       "      <th>358</th>\n",
       "      <td>358</td>\n",
       "      <td>45.015025</td>\n",
       "    </tr>\n",
       "    <tr>\n",
       "      <th>359</th>\n",
       "      <td>359</td>\n",
       "      <td>45.256298</td>\n",
       "    </tr>\n",
       "    <tr>\n",
       "      <th>360</th>\n",
       "      <td>360</td>\n",
       "      <td>40.495345</td>\n",
       "    </tr>\n",
       "  </tbody>\n",
       "</table>\n",
       "<p>361 rows × 2 columns</p>\n",
       "</div>"
      ],
      "text/plain": [
       "     Rotated Angle  Calculated Orientation\n",
       "0                0               40.495345\n",
       "1                1               49.894555\n",
       "2                2               51.029895\n",
       "3                3               52.535483\n",
       "4                4               53.706962\n",
       "..             ...                     ...\n",
       "356            356               44.300913\n",
       "357            357               44.728698\n",
       "358            358               45.015025\n",
       "359            359               45.256298\n",
       "360            360               40.495345\n",
       "\n",
       "[361 rows x 2 columns]"
      ]
     },
     "execution_count": 13,
     "metadata": {},
     "output_type": "execute_result"
    }
   ],
   "source": [
    "pd.DataFrame(result)"
   ]
  },
  {
   "cell_type": "code",
   "execution_count": 14,
   "id": "57d7cb00",
   "metadata": {},
   "outputs": [
    {
     "data": {
      "text/plain": [
       "180.0"
      ]
     },
     "execution_count": 14,
     "metadata": {},
     "output_type": "execute_result"
    }
   ],
   "source": [
    "a = 1\n",
    "b = 10**(-16)\n",
    "\n",
    "np.arctan(a/b)*(360/np.pi)"
   ]
  },
  {
   "cell_type": "code",
   "execution_count": 15,
   "id": "ee41bd5a",
   "metadata": {},
   "outputs": [
    {
     "data": {
      "text/plain": [
       "Text(0, 0.5, 'Calculated Orientation')"
      ]
     },
     "execution_count": 15,
     "metadata": {},
     "output_type": "execute_result"
    },
    {
     "data": {
      "image/png": "[encoded data removed]",
      "text/plain": [
       "<Figure size 648x648 with 1 Axes>"
      ]
     },
     "metadata": {
      "needs_background": "light"
     },
     "output_type": "display_data"
    }
   ],
   "source": [
    "plt.figure(figsize = (9, 9))\n",
    "plt.plot(result['Rotated Angle'], result['Calculated Orientation'])\n",
    "plt.title(\"Rotated Angle against Calculated Orientation\")\n",
    "plt.xlabel(\"Rotated Angle\")\n",
    "plt.ylabel(\"Calculated Orientation\")"
   ]
  }
 ],
 "metadata": {
  "kernelspec": {
   "display_name": "base",
   "language": "python",
   "name": "python3"
  },
  "language_info": {
   "codemirror_mode": {
    "name": "ipython",
    "version": 3
   },
   "file_extension": ".py",
   "mimetype": "text/x-python",
   "name": "python",
   "nbconvert_exporter": "python",
   "pygments_lexer": "ipython3",
   "version": "3.8.8"
  },
  "vscode": {
   "interpreter": {
    "hash": "9ee0ec614d0abf57fdc8a4c4d1b373279e4d39776338528fabf72ad422f0613a"
   }
  }
 },
 "nbformat": 4,
 "nbformat_minor": 5
}
